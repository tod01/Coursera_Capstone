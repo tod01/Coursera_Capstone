{
 "cells": [
  {
   "cell_type": "markdown",
   "metadata": {},
   "source": [
    "# Business Problem"
   ]
  },
  {
   "cell_type": "markdown",
   "metadata": {},
   "source": [
    "A technology company owner wants to open his business in the city of **Los Angeles**. He's looking where he can open it to gain more **customers**. To do this, he comes to us to find out how we can help him find the best place for his business.\n",
    "\n",
    "The advantage of this problem is to facilitate the growth of the owner's business. Indeed, if he simply comes to a city without analysing the areas, it will be very difficult for him to gain customers."
   ]
  },
  {
   "cell_type": "markdown",
   "metadata": {},
   "source": [
    "# Data"
   ]
  },
  {
   "cell_type": "markdown",
   "metadata": {},
   "source": [
    "We will primarily use **Foursquare's location data** to find out where we have the most technology companies and where we have the least. \n",
    "Since in Los Angeles there are a lot of big technology companies, the idea will be to analyze the areas where there are fewer technology companies. This will allow the owner to position his business for the first time and attract more customers with his services which are scarce in this area.\n",
    "\n",
    "\n",
    "\n"
   ]
  }
 ],
 "metadata": {
  "kernelspec": {
   "display_name": "Python 3",
   "language": "python",
   "name": "python3"
  },
  "language_info": {
   "codemirror_mode": {
    "name": "ipython",
    "version": 3
   },
   "file_extension": ".py",
   "mimetype": "text/x-python",
   "name": "python",
   "nbconvert_exporter": "python",
   "pygments_lexer": "ipython3",
   "version": "3.7.4"
  }
 },
 "nbformat": 4,
 "nbformat_minor": 2
}
